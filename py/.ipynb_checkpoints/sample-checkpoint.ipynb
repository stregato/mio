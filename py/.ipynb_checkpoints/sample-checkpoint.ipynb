{
 "cells": [
  {
   "cell_type": "code",
   "execution_count": 1,
   "id": "fa24d43c",
   "metadata": {},
   "outputs": [
    {
     "name": "stderr",
     "output_type": "stream",
     "text": [
      "time=\"2024-06-21T22:06:05+02:00\" level=info msg=\"core.syncTime[time.go:34] - clock offset -1.036513ms from time.google.com \"\n"
     ]
    }
   ],
   "source": [
    "from mio import *\n",
    "set_mio_log_level('debug')\n"
   ]
  },
  {
   "cell_type": "markdown",
   "id": "a064cdf7-2c54-4cd8-be61-f2bdd686e3c0",
   "metadata": {},
   "source": [
    "# Introduction\n",
    "Mio is a library designed to store and share protected information. It allows information to be stored in public and cloud locations (e.g., S3) while ensuring that only intended peers have access, and not the storage service providers."
   ]
  },
  {
   "cell_type": "markdown",
   "id": "01ff1c1d-4a41-47a0-a1ea-a293718fc4ab",
   "metadata": {},
   "source": [
    "### Identity\n",
    "Each peer in the information sharing is identified by a cryptographic key, which allows for identification via signature and asymmetric encryption of data. An identity also includes a nickname, a human-readable name for easier management.\n",
    "\n",
    "An identity consists of a public ID, which is a combination of the nickname and the public part of the cryptographic key."
   ]
  },
  {
   "cell_type": "code",
   "execution_count": 2,
   "id": "fe2dd18b",
   "metadata": {},
   "outputs": [
    {
     "name": "stdout",
     "output_type": "stream",
     "text": [
      "ID:  Admin.A+SjkkwsclT4wsxOZ0mp5qP98Wc0btpoULZ50Uk6vOFj1TwUm4ta7d9DE1wyH5VE18IwHXKiaFdp1NxDQVkmdGU!\n",
      "Nick:  Admin\n",
      "Private key 67xA0RvyXOw8cweP_gVANgt07gvb2XrpuyHkla8Uw0GHSwpGD7fm6ZuoT_PtgcWBV2QUX0ftSaQENfUGUxrXtNU8FJuLWu3fQxNcMh+VRNfCMB1yomhXadTcQ0FZJnRl\n"
     ]
    }
   ],
   "source": [
    "i = Identity('Admin')  # New identity with name\n",
    "\n",
    "print('ID: ', i.id)\n",
    "print('Nick: ', i.nick)\n",
    "print('Private key', i.private)"
   ]
  },
  {
   "cell_type": "markdown",
   "id": "8e6fe251-b974-4b26-99f7-45b8ebe94bde",
   "metadata": {},
   "source": [
    "### Local DB\n",
    "The library requires a local SQLite database to manage metadata and encryption keys. By default, this database is named _mio.db_ and is created in the user's configuration folder."
   ]
  },
  {
   "cell_type": "code",
   "execution_count": 3,
   "id": "998979a6-c24a-4f60-b200-b19e182636bb",
   "metadata": {},
   "outputs": [
    {
     "name": "stderr",
     "output_type": "stream",
     "text": [
      "time=\"2024-06-21T22:06:06+02:00\" level=info msg=\"sqlx.(*DB).Define[define.go:38] - SQL Init stmt (line 1) 'CREATE TABLE IF NOT EXISTS mio_configs (\\nnode    VARCHAR(128) NOT NULL,\\nk       VARCHAR(64) NOT NULL,\\ns       VARCHAR(64) NOT NULL,\\ni       INTEGER NOT NULL,\\nb       BLOB,\\nCONSTRAINT pk_safe_key PRIMARY KEY(node,k)\\n);\\n' executed\\n\"\n",
      "time=\"2024-06-21T22:06:06+02:00\" level=info msg=\"sqlx.(*DB).prepareStatement[define.go:81] - SQL statement compiled: 'MIO_GET_CONFIG' (11) 'SELECT s, i, b FROM mio_configs WHERE node=:node AND k=:key\\n'\\n\"\n",
      "time=\"2024-06-21T22:06:06+02:00\" level=info msg=\"sqlx.(*DB).prepareStatement[define.go:81] - SQL statement compiled: 'MIO_SET_CONFIG' (14) 'INSERT INTO mio_configs(node,k,s,i,b) VALUES(:node,:key,:s,:i,:b)\\n\\tON CONFLICT(node,k) DO UPDATE SET s=:s,i=:i,b=:b\\n\\tWHERE node=:node AND k=:key\\n'\\n\"\n",
      "time=\"2024-06-21T22:06:06+02:00\" level=info msg=\"sqlx.(*DB).prepareStatement[define.go:81] - SQL statement compiled: 'MIO_DEL_CONFIG' (19) 'DELETE FROM mio_configs WHERE node=:node\\n'\\n\"\n",
      "time=\"2024-06-21T22:06:06+02:00\" level=info msg=\"sqlx.(*DB).prepareStatement[define.go:81] - SQL statement compiled: 'MIO_LIST_CONFIG' (22) 'SELECT k FROM mio_configs WHERE node=:node\\n'\\n\"\n",
      "time=\"2024-06-21T22:06:06+02:00\" level=info msg=\"sqlx.(*DB).Define[define.go:38] - SQL Init stmt (line 25) 'CREATE TABLE IF NOT EXISTS mio_files (\\nsafeID          VARCHAR(256)    NOT NULL,\\nname            VARCHAR(256)    NOT NULL,\\ndir             VARCHAR(4096)   NOT NULL,\\nid              INTEGER         NOT NULL,\\ncreator         VARCHAR(256)    NOT NULL,\\ngroupName       VARCHAR(256)    NOT NULL,\\ntags            VARCHAR(4096)   NOT NULL,\\nencryptionKey   VARCHAR(256)    NOT NULL,\\nmodTime         INTEGER         NOT NULL,\\nsize            INTEGER         NOT NULL,\\nlocalCopy       VARCHAR(4096)   NOT NULL,\\ncopyTime    INTEGER         NOT NULL,\\nattributes      BLOB,\\nPRIMARY KEY(safeID, name, dir, id)\\n);\\n' executed\\n\"\n",
      "time=\"2024-06-21T22:06:06+02:00\" level=info msg=\"sqlx.(*DB).Define[define.go:38] - SQL Init stmt (line 43) 'CREATE INDEX IF NOT EXISTS idx_mio_files_id ON mio_files(id)\\n' executed\\n\"\n",
      "time=\"2024-06-21T22:06:06+02:00\" level=info msg=\"sqlx.(*DB).Define[define.go:38] - SQL Init stmt (line 46) 'CREATE INDEX IF NOT EXISTS idx_mio_files_groupName ON mio_files(groupName)\\n' executed\\n\"\n",
      "time=\"2024-06-21T22:06:06+02:00\" level=info msg=\"sqlx.(*DB).Define[define.go:38] - SQL Init stmt (line 49) 'CREATE INDEX IF NOT EXISTS idx_mio_files_tags ON mio_files(tags)\\n' executed\\n\"\n",
      "time=\"2024-06-21T22:06:06+02:00\" level=info msg=\"sqlx.(*DB).Define[define.go:38] - SQL Init stmt (line 52) 'CREATE INDEX IF NOT EXISTS idx_mio_files_modTime ON mio_files(modTime)\\n' executed\\n\"\n",
      "time=\"2024-06-21T22:06:06+02:00\" level=info msg=\"sqlx.(*DB).Define[define.go:38] - SQL Init stmt (line 55) 'CREATE INDEX IF NOT EXISTS idx_mio_files_name ON mio_files(name)\\n' executed\\n\"\n",
      "time=\"2024-06-21T22:06:06+02:00\" level=info msg=\"sqlx.(*DB).prepareStatement[define.go:81] - SQL statement compiled: 'MIO_STORE_FILE' (58) 'INSERT INTO mio_files(safeID,name,dir,id,creator,groupName,tags,encryptionKey,modTime,size,localCopy,\\ncopyTime, attributes) VALUES(:safeID,:name,:dir,:id,:creator,:groupName,:tags,:encryptionKey,\\n:modTime,:size,:localCopy,:copyTime,:attributes) ON CONFLICT(safeID,name,dir,id) DO UPDATE\\nSET creator=:creator,groupName=:groupName,tags=:tags,encryptionKey=:encryptionKey,modTime=:modTime,\\nsize=:size,localCopy=:localCopy,copyTime=:copyTime,attributes=:attributes\\nWHERE id=:id AND safeID=:safeID AND name=:name AND dir=:dir\\n'\\n\"\n",
      "time=\"2024-06-21T22:06:06+02:00\" level=info msg=\"sqlx.(*DB).prepareStatement[define.go:81] - SQL statement compiled: 'MIO_STORE_DIR' (66) 'INSERT INTO mio_files(safeID,name,dir,id,creator,groupName,tags,encryptionKey,modTime,size,localCopy,copyTime)\\nVALUES(:safeID,:name,:dir,0,'','','','',0,0,'',0)\\nON CONFLICT(safeID,name,dir,id) DO NOTHING\\n'\\n\"\n",
      "time=\"2024-06-21T22:06:06+02:00\" level=info msg=\"sqlx.(*DB).prepareStatement[define.go:81] - SQL statement compiled: 'MIO_UPDATE_LOCALCOPY' (71) 'UPDATE mio_files SET localCopy=:localCopy, copyTime=:copyTime\\nWHERE safeID=:safeID AND name=:name AND dir=:dir AND id=:id\\n'\\n\"\n",
      "time=\"2024-06-21T22:06:06+02:00\" level=info msg=\"sqlx.(*DB).prepareStatement[define.go:81] - SQL statement compiled: 'MIO_GET_LAST_ID' (75) 'SELECT id FROM mio_files WHERE dir=:dir ORDER BY id DESC LIMIT 1\\n'\\n\"\n",
      "time=\"2024-06-21T22:06:06+02:00\" level=info msg=\"sqlx.(*DB).prepareStatement[define.go:81] - SQL statement compiled: 'MIO_GET_FILE_BY_NAME' (92) 'SELECT  id,groupName,tags,modTime,size,creator,attributes,localCopy,copyTime,encryptionKey\\nFROM mio_files WHERE safeID=:safeID AND dir=:dir AND name=:name ORDER BY id DESC LIMIT 1\\n'\\n\"\n",
      "time=\"2024-06-21T22:06:06+02:00\" level=info msg=\"sqlx.(*DB).prepareStatement[define.go:81] - SQL statement compiled: 'MIO_GET_GROUP_NAME' (96) 'SELECT DISTINCT groupName FROM mio_files WHERE safeID=:safeID AND dir = :dir AND name = :name\\n'\\n\"\n",
      "time=\"2024-06-21T22:06:06+02:00\" level=info msg=\"sqlx.(*DB).prepareStatement[define.go:81] - SQL statement compiled: 'MIO_DELETE_FILE' (99) 'DELETE FROM mio_files WHERE safeID=:safeID AND id=:id\\n'\\n\"\n",
      "time=\"2024-06-21T22:06:06+02:00\" level=info msg=\"sqlx.(*DB).prepareStatement[define.go:81] - SQL statement compiled: 'MIO_DELETE_DIR' (102) 'DELETE FROM mio_files WHERE safeID=:safeID AND dir=:dir AND id=0 AND NOT EXISTS(SELECT 1 FROM mio_files WHERE safeID=:safeID AND dir=:dir AND id>0)\\n'\\n\"\n",
      "time=\"2024-06-21T22:06:06+02:00\" level=info msg=\"sqlx.(*DB).prepareStatement[define.go:81] - SQL statement compiled: 'MIO_RENAME_FILE' (105) 'UPDATE mio_files SET name=:newName, dir=:newDir WHERE safeID=:safeID AND id=:id AND name=:oldName AND dir=:oldDir\\n'\\n\"\n",
      "time=\"2024-06-21T22:06:06+02:00\" level=info msg=\"sqlx.(*DB).Define[define.go:38] - SQL Init stmt (line 108) 'CREATE TABLE IF NOT EXISTS mio_file_async (\\nsafeID      VARCHAR(256)    NOT NULL,\\nid          VARCHAR(256)    NOT NULL,\\ndeleteSrc   INTEGER         NOT NULL,\\nlocalCopy   VARCHAR(4096)   NOT NULL,\\noperation   VARCHAR(0)      NOT NULL,\\nfile        BLOB NOT        NULL,\\ndata        BLOB,\\nCONSTRAINT pk_mio_file_async PRIMARY KEY(safeID,id)\\n);\\n' executed\\n\"\n",
      "time=\"2024-06-21T22:06:06+02:00\" level=info msg=\"sqlx.(*DB).prepareStatement[define.go:81] - SQL statement compiled: 'MIO_INSERT_FILE_ASYNC' (120) 'INSERT INTO mio_file_async(safeID,id,deleteSrc,localCopy,operation,file,data)\\nVALUES(:safeID,:id,:deleteSrc,:localCopy,:operation,:file,:data)\\n'\\n\"\n",
      "time=\"2024-06-21T22:06:06+02:00\" level=info msg=\"sqlx.(*DB).prepareStatement[define.go:81] - SQL statement compiled: 'MIO_GET_FILE_ASYNC' (124) 'SELECT file,data, deleteSrc, localCopy, operation FROM mio_file_async WHERE safeID=:safeID AND id=:id\\n'\\n\"\n",
      "time=\"2024-06-21T22:06:06+02:00\" level=info msg=\"sqlx.(*DB).prepareStatement[define.go:81] - SQL statement compiled: 'MIO_GET_FILES_ASYNC' (127) 'SELECT id,file,data, deleteSrc, localCopy, operation FROM mio_file_async WHERE safeID=:safeID\\n'\\n\"\n",
      "time=\"2024-06-21T22:06:06+02:00\" level=info msg=\"sqlx.(*DB).prepareStatement[define.go:81] - SQL statement compiled: 'MIO_DEL_FILE_ASYNC' (130) 'DELETE FROM mio_file_async WHERE safeID=:safeID AND id=:id\\n'\\n\"\n",
      "time=\"2024-06-21T22:06:06+02:00\" level=info msg=\"sqlx.(*DB).Define[define.go:38] - SQL Init stmt (line 133) 'CREATE TABLE IF NOT EXISTS mio_tx (\\nsafeID      TEXT,\\ngroupName   TEXT,\\nkind        TEXT,\\nid      TEXT,\\nCONSTRAINT pk_mio_tx_key PRIMARY KEY(safeID,groupName,kind)\\n)\\n' executed\\n\"\n",
      "time=\"2024-06-21T22:06:06+02:00\" level=info msg=\"sqlx.(*DB).prepareStatement[define.go:81] - SQL statement compiled: 'MIO_STORE_TX' (142) 'INSERT INTO mio_tx (safeID,groupName,kind,id) VALUES(:safeID,:groupName,:kind,:id)\\nON CONFLICT(safeID,groupName,kind) DO UPDATE SET id=:id\\nWHERE safeID=:safeID AND groupName=:groupName AND kind=:kind\\n'\\n\"\n",
      "time=\"2024-06-21T22:06:06+02:00\" level=info msg=\"sqlx.(*DB).prepareStatement[define.go:81] - SQL statement compiled: 'MIO_GET_TX' (147) 'SELECT kind, id FROM mio_tx WHERE safeID = :safeID AND groupName = :groupName\\n'\\n\"\n",
      "time=\"2024-06-21T22:06:06+02:00\" level=info msg=\"sqlx.(*DB).prepareStatement[define.go:81] - SQL statement compiled: 'MIO_DEL_TX_KIND' (150) 'DELETE FROM mio_tx WHERE safeID = :safeID AND groupName = :groupName AND kind = :kind\\n'\\n\"\n"
     ]
    },
    {
     "data": {
      "text/plain": [
       "/home/ea/.config/mio.db"
      ]
     },
     "execution_count": 3,
     "metadata": {},
     "output_type": "execute_result"
    }
   ],
   "source": [
    "DB.default()"
   ]
  },
  {
   "cell_type": "markdown",
   "id": "059b7561-c717-4e37-8874-400f40ef2608",
   "metadata": {},
   "source": [
    "### Safe\n",
    "The information container is called a safe. The safe integrates a local database, the identity, and a storage URL to create a protected information storage system.\n",
    "\n",
    "As of this writing, the library supports the following storage media: local filesystem, SFTP, S3, and WebDav. The table below shows the URL format for each storage type. The URL path includes the public ID of the safe's creator and a user-friendly name for the safe.\n",
    "\n",
    "|Media|Format|Sample|\n",
    "|-|-|-|\n",
    "|local|file://_path_/_id_/_name_|file:///tmp/mio/Admin.A3Z1CR0wYMK_gXsRLkpowC3dVFC5rUNEeakiWPyb3D5l5VD1SXEFTxzQKEIvzNvKGEZGYp4yETo77SN+ViGP_00!/sample|\n",
    "|S3|s3://_server_/_bucket_/_id_/_name_?a=_access_&s=_secret_|s3://d551285d92ed8fa4048fc09ca9113568.r2.cloudflarestorage.com/mio/Admin.A3Z1CR0wYMK_gXsRLkpowC3dVFC5rUNEeakiWPyb3D5l5VD1SXEFTxzQKEIvzNvKGEZGYp4yETo77SN+ViGP_00!/sample?a=acc5aba2f85d63536bbb45f085bb2b23&s=bcc49533aaaa46d929282b542ce598a12f7a4522dac8d5e9d403b39629484c2b&region=auto|\n"
   ]
  },
  {
   "cell_type": "markdown",
   "id": "49123443-517a-41fe-81fc-658846af2bb2",
   "metadata": {},
   "source": [
    "A new safe is created using the _create_ method."
   ]
  },
  {
   "cell_type": "code",
   "execution_count": 4,
   "id": "72b3822b",
   "metadata": {},
   "outputs": [
    {
     "name": "stderr",
     "output_type": "stream",
     "text": [
      "time=\"2024-06-21T22:06:06+02:00\" level=info msg=\"sqlx.(*DB).Define[define.go:38] - SQL Init stmt (line 1) 'CREATE TABLE IF NOT EXISTS mio_configs (\\nnode    VARCHAR(128) NOT NULL,\\nk       VARCHAR(64) NOT NULL,\\ns       VARCHAR(64) NOT NULL,\\ni       INTEGER NOT NULL,\\nb       BLOB,\\nCONSTRAINT pk_safe_key PRIMARY KEY(node,k)\\n);\\n' executed\\n\"\n",
      "time=\"2024-06-21T22:06:06+02:00\" level=info msg=\"sqlx.(*DB).prepareStatement[define.go:81] - SQL statement compiled: 'MIO_GET_CONFIG' (11) 'SELECT s, i, b FROM mio_configs WHERE node=:node AND k=:key\\n'\\n\"\n",
      "time=\"2024-06-21T22:06:06+02:00\" level=info msg=\"sqlx.(*DB).prepareStatement[define.go:81] - SQL statement compiled: 'MIO_SET_CONFIG' (14) 'INSERT INTO mio_configs(node,k,s,i,b) VALUES(:node,:key,:s,:i,:b)\\n\\tON CONFLICT(node,k) DO UPDATE SET s=:s,i=:i,b=:b\\n\\tWHERE node=:node AND k=:key\\n'\\n\"\n",
      "time=\"2024-06-21T22:06:06+02:00\" level=info msg=\"sqlx.(*DB).prepareStatement[define.go:81] - SQL statement compiled: 'MIO_DEL_CONFIG' (19) 'DELETE FROM mio_configs WHERE node=:node\\n'\\n\"\n",
      "time=\"2024-06-21T22:06:06+02:00\" level=info msg=\"sqlx.(*DB).prepareStatement[define.go:81] - SQL statement compiled: 'MIO_LIST_CONFIG' (22) 'SELECT k FROM mio_configs WHERE node=:node\\n'\\n\"\n",
      "time=\"2024-06-21T22:06:06+02:00\" level=info msg=\"sqlx.(*DB).Define[define.go:38] - SQL Init stmt (line 25) 'CREATE TABLE IF NOT EXISTS mio_files (\\nsafeID          VARCHAR(256)    NOT NULL,\\nname            VARCHAR(256)    NOT NULL,\\ndir             VARCHAR(4096)   NOT NULL,\\nid              INTEGER         NOT NULL,\\ncreator         VARCHAR(256)    NOT NULL,\\ngroupName       VARCHAR(256)    NOT NULL,\\ntags            VARCHAR(4096)   NOT NULL,\\nencryptionKey   VARCHAR(256)    NOT NULL,\\nmodTime         INTEGER         NOT NULL,\\nsize            INTEGER         NOT NULL,\\nlocalCopy       VARCHAR(4096)   NOT NULL,\\ncopyTime    INTEGER         NOT NULL,\\nattributes      BLOB,\\nPRIMARY KEY(safeID, name, dir, id)\\n);\\n' executed\\n\"\n",
      "time=\"2024-06-21T22:06:06+02:00\" level=info msg=\"sqlx.(*DB).Define[define.go:38] - SQL Init stmt (line 43) 'CREATE INDEX IF NOT EXISTS idx_mio_files_id ON mio_files(id)\\n' executed\\n\"\n",
      "time=\"2024-06-21T22:06:06+02:00\" level=info msg=\"sqlx.(*DB).Define[define.go:38] - SQL Init stmt (line 46) 'CREATE INDEX IF NOT EXISTS idx_mio_files_groupName ON mio_files(groupName)\\n' executed\\n\"\n",
      "time=\"2024-06-21T22:06:06+02:00\" level=info msg=\"sqlx.(*DB).Define[define.go:38] - SQL Init stmt (line 49) 'CREATE INDEX IF NOT EXISTS idx_mio_files_tags ON mio_files(tags)\\n' executed\\n\"\n",
      "time=\"2024-06-21T22:06:06+02:00\" level=info msg=\"sqlx.(*DB).Define[define.go:38] - SQL Init stmt (line 52) 'CREATE INDEX IF NOT EXISTS idx_mio_files_modTime ON mio_files(modTime)\\n' executed\\n\"\n",
      "time=\"2024-06-21T22:06:06+02:00\" level=info msg=\"sqlx.(*DB).Define[define.go:38] - SQL Init stmt (line 55) 'CREATE INDEX IF NOT EXISTS idx_mio_files_name ON mio_files(name)\\n' executed\\n\"\n",
      "time=\"2024-06-21T22:06:06+02:00\" level=info msg=\"sqlx.(*DB).prepareStatement[define.go:81] - SQL statement compiled: 'MIO_STORE_FILE' (58) 'INSERT INTO mio_files(safeID,name,dir,id,creator,groupName,tags,encryptionKey,modTime,size,localCopy,\\ncopyTime, attributes) VALUES(:safeID,:name,:dir,:id,:creator,:groupName,:tags,:encryptionKey,\\n:modTime,:size,:localCopy,:copyTime,:attributes) ON CONFLICT(safeID,name,dir,id) DO UPDATE\\nSET creator=:creator,groupName=:groupName,tags=:tags,encryptionKey=:encryptionKey,modTime=:modTime,\\nsize=:size,localCopy=:localCopy,copyTime=:copyTime,attributes=:attributes\\nWHERE id=:id AND safeID=:safeID AND name=:name AND dir=:dir\\n'\\n\"\n",
      "time=\"2024-06-21T22:06:06+02:00\" level=info msg=\"sqlx.(*DB).prepareStatement[define.go:81] - SQL statement compiled: 'MIO_STORE_DIR' (66) 'INSERT INTO mio_files(safeID,name,dir,id,creator,groupName,tags,encryptionKey,modTime,size,localCopy,copyTime)\\nVALUES(:safeID,:name,:dir,0,'','','','',0,0,'',0)\\nON CONFLICT(safeID,name,dir,id) DO NOTHING\\n'\\n\"\n",
      "time=\"2024-06-21T22:06:06+02:00\" level=info msg=\"sqlx.(*DB).prepareStatement[define.go:81] - SQL statement compiled: 'MIO_UPDATE_LOCALCOPY' (71) 'UPDATE mio_files SET localCopy=:localCopy, copyTime=:copyTime\\nWHERE safeID=:safeID AND name=:name AND dir=:dir AND id=:id\\n'\\n\"\n",
      "time=\"2024-06-21T22:06:06+02:00\" level=info msg=\"sqlx.(*DB).prepareStatement[define.go:81] - SQL statement compiled: 'MIO_GET_LAST_ID' (75) 'SELECT id FROM mio_files WHERE dir=:dir ORDER BY id DESC LIMIT 1\\n'\\n\"\n",
      "time=\"2024-06-21T22:06:06+02:00\" level=info msg=\"sqlx.(*DB).prepareStatement[define.go:81] - SQL statement compiled: 'MIO_GET_FILE_BY_NAME' (92) 'SELECT  id,groupName,tags,modTime,size,creator,attributes,localCopy,copyTime,encryptionKey\\nFROM mio_files WHERE safeID=:safeID AND dir=:dir AND name=:name ORDER BY id DESC LIMIT 1\\n'\\n\"\n",
      "time=\"2024-06-21T22:06:06+02:00\" level=info msg=\"sqlx.(*DB).prepareStatement[define.go:81] - SQL statement compiled: 'MIO_GET_GROUP_NAME' (96) 'SELECT DISTINCT groupName FROM mio_files WHERE safeID=:safeID AND dir = :dir AND name = :name\\n'\\n\"\n",
      "time=\"2024-06-21T22:06:06+02:00\" level=info msg=\"sqlx.(*DB).prepareStatement[define.go:81] - SQL statement compiled: 'MIO_DELETE_FILE' (99) 'DELETE FROM mio_files WHERE safeID=:safeID AND id=:id\\n'\\n\"\n",
      "time=\"2024-06-21T22:06:06+02:00\" level=info msg=\"sqlx.(*DB).prepareStatement[define.go:81] - SQL statement compiled: 'MIO_DELETE_DIR' (102) 'DELETE FROM mio_files WHERE safeID=:safeID AND dir=:dir AND id=0 AND NOT EXISTS(SELECT 1 FROM mio_files WHERE safeID=:safeID AND dir=:dir AND id>0)\\n'\\n\"\n",
      "time=\"2024-06-21T22:06:06+02:00\" level=info msg=\"sqlx.(*DB).prepareStatement[define.go:81] - SQL statement compiled: 'MIO_RENAME_FILE' (105) 'UPDATE mio_files SET name=:newName, dir=:newDir WHERE safeID=:safeID AND id=:id AND name=:oldName AND dir=:oldDir\\n'\\n\"\n",
      "time=\"2024-06-21T22:06:06+02:00\" level=info msg=\"sqlx.(*DB).Define[define.go:38] - SQL Init stmt (line 108) 'CREATE TABLE IF NOT EXISTS mio_file_async (\\nsafeID      VARCHAR(256)    NOT NULL,\\nid          VARCHAR(256)    NOT NULL,\\ndeleteSrc   INTEGER         NOT NULL,\\nlocalCopy   VARCHAR(4096)   NOT NULL,\\noperation   VARCHAR(0)      NOT NULL,\\nfile        BLOB NOT        NULL,\\ndata        BLOB,\\nCONSTRAINT pk_mio_file_async PRIMARY KEY(safeID,id)\\n);\\n' executed\\n\"\n",
      "time=\"2024-06-21T22:06:06+02:00\" level=info msg=\"sqlx.(*DB).prepareStatement[define.go:81] - SQL statement compiled: 'MIO_INSERT_FILE_ASYNC' (120) 'INSERT INTO mio_file_async(safeID,id,deleteSrc,localCopy,operation,file,data)\\nVALUES(:safeID,:id,:deleteSrc,:localCopy,:operation,:file,:data)\\n'\\n\"\n",
      "time=\"2024-06-21T22:06:06+02:00\" level=info msg=\"sqlx.(*DB).prepareStatement[define.go:81] - SQL statement compiled: 'MIO_GET_FILE_ASYNC' (124) 'SELECT file,data, deleteSrc, localCopy, operation FROM mio_file_async WHERE safeID=:safeID AND id=:id\\n'\\n\"\n",
      "time=\"2024-06-21T22:06:06+02:00\" level=info msg=\"sqlx.(*DB).prepareStatement[define.go:81] - SQL statement compiled: 'MIO_GET_FILES_ASYNC' (127) 'SELECT id,file,data, deleteSrc, localCopy, operation FROM mio_file_async WHERE safeID=:safeID\\n'\\n\"\n",
      "time=\"2024-06-21T22:06:06+02:00\" level=info msg=\"sqlx.(*DB).prepareStatement[define.go:81] - SQL statement compiled: 'MIO_DEL_FILE_ASYNC' (130) 'DELETE FROM mio_file_async WHERE safeID=:safeID AND id=:id\\n'\\n\"\n",
      "time=\"2024-06-21T22:06:06+02:00\" level=info msg=\"sqlx.(*DB).Define[define.go:38] - SQL Init stmt (line 133) 'CREATE TABLE IF NOT EXISTS mio_tx (\\nsafeID      TEXT,\\ngroupName   TEXT,\\nkind        TEXT,\\nid      TEXT,\\nCONSTRAINT pk_mio_tx_key PRIMARY KEY(safeID,groupName,kind)\\n)\\n' executed\\n\"\n",
      "time=\"2024-06-21T22:06:06+02:00\" level=info msg=\"sqlx.(*DB).prepareStatement[define.go:81] - SQL statement compiled: 'MIO_STORE_TX' (142) 'INSERT INTO mio_tx (safeID,groupName,kind,id) VALUES(:safeID,:groupName,:kind,:id)\\nON CONFLICT(safeID,groupName,kind) DO UPDATE SET id=:id\\nWHERE safeID=:safeID AND groupName=:groupName AND kind=:kind\\n'\\n\"\n",
      "time=\"2024-06-21T22:06:06+02:00\" level=info msg=\"sqlx.(*DB).prepareStatement[define.go:81] - SQL statement compiled: 'MIO_GET_TX' (147) 'SELECT kind, id FROM mio_tx WHERE safeID = :safeID AND groupName = :groupName\\n'\\n\"\n",
      "time=\"2024-06-21T22:06:06+02:00\" level=info msg=\"sqlx.(*DB).prepareStatement[define.go:81] - SQL statement compiled: 'MIO_DEL_TX_KIND' (150) 'DELETE FROM mio_tx WHERE safeID = :safeID AND groupName = :groupName AND kind = :kind\\n'\\n\"\n",
      "time=\"2024-06-21T22:06:07+02:00\" level=info msg=\"safe.readGroupChanges[group.go:424] - group changes read from the store from batches []\"\n",
      "time=\"2024-06-21T22:06:07+02:00\" level=info msg=\"safe.addChanges[group.go:263] - local and remote group chains are identical\"\n",
      "time=\"2024-06-21T22:06:07+02:00\" level=info msg=\"safe.SyncGroupChain[group.go:212] - neither local nor remote group chain is lead, doing nothing hoping another peer will resolve the conflict\"\n",
      "time=\"2024-06-21T22:06:07+02:00\" level=info msg=\"safe.applyChange[group.go:338] - group change applied: Admin granted to adm by Admin\"\n",
      "time=\"2024-06-21T22:06:07+02:00\" level=info msg=\"safe.(*Safe).UpdateGroup[group.go:133] - group change created and added to the chain: Admin granted to adm by Admin\"\n",
      "time=\"2024-06-21T22:06:07+02:00\" level=info msg=\"safe.writeGroupChanges[group.go:447] - group changes written to the store on batches [0]\"\n",
      "time=\"2024-06-21T22:06:08+02:00\" level=info msg=\"safe.writeKeystore[key.go:237] - keystore adm.ks written successfully by Admin: users Admin\"\n",
      "time=\"2024-06-21T22:06:08+02:00\" level=info msg=\"safe.writeKeystore[key.go:237] - keystore adm.ks written successfully by Admin: users Admin\"\n",
      "time=\"2024-06-21T22:06:08+02:00\" level=info msg=\"safe.SyncGroupChain[group.go:187] - group chain is up to date, using the local copy\"\n",
      "time=\"2024-06-21T22:06:08+02:00\" level=info msg=\"safe.applyChange[group.go:338] - group change applied: Admin granted to usr by Admin\"\n",
      "time=\"2024-06-21T22:06:08+02:00\" level=info msg=\"safe.(*Safe).UpdateGroup[group.go:133] - group change created and added to the chain: Admin granted to usr by Admin\"\n",
      "time=\"2024-06-21T22:06:08+02:00\" level=info msg=\"safe.writeGroupChanges[group.go:447] - group changes written to the store on batches [0]\"\n",
      "time=\"2024-06-21T22:06:09+02:00\" level=info msg=\"safe.writeKeystore[key.go:237] - keystore usr.ks written successfully by Admin: users Admin\"\n"
     ]
    },
    {
     "data": {
      "text/plain": [
       "file:///tmp/mio/Admin.A+SjkkwsclT4wsxOZ0mp5qP98Wc0btpoULZ50Uk6vOFj1TwUm4ta7d9DE1wyH5VE18IwHXKiaFdp1NxDQVkmdGU!/sample"
      ]
     },
     "execution_count": 4,
     "metadata": {},
     "output_type": "execute_result"
    }
   ],
   "source": [
    "url = 'file:///tmp/mio/{}/sample'.format(i)\n",
    "s = Safe.create(DB.default(), i, url)\n",
    "s"
   ]
  },
  {
   "cell_type": "markdown",
   "id": "fa43d0fe-8e80-4af8-82e3-df5b24fd5f71",
   "metadata": {},
   "source": [
    "At creation, only the creator belongs to the safe in both the _adm_ and _usr_ groups. Similar to Unix operating systems, a safe has multiple groups that define the permissions for different users (identities). The _get_groups_ method displays the available groups and their associated users."
   ]
  },
  {
   "cell_type": "code",
   "execution_count": 5,
   "id": "b2613318-0e6e-40cd-aced-3e6f16fe006a",
   "metadata": {},
   "outputs": [
    {
     "name": "stderr",
     "output_type": "stream",
     "text": [
      "time=\"2024-06-21T22:06:09+02:00\" level=info msg=\"safe.SyncGroupChain[group.go:187] - group chain is up to date, using the local copy\"\n"
     ]
    },
    {
     "data": {
      "text/plain": [
       "{'adm': {'Admin.A+SjkkwsclT4wsxOZ0mp5qP98Wc0btpoULZ50Uk6vOFj1TwUm4ta7d9DE1wyH5VE18IwHXKiaFdp1NxDQVkmdGU!': True},\n",
       " 'usr': {'Admin.A+SjkkwsclT4wsxOZ0mp5qP98Wc0btpoULZ50Uk6vOFj1TwUm4ta7d9DE1wyH5VE18IwHXKiaFdp1NxDQVkmdGU!': True}}"
      ]
     },
     "execution_count": 5,
     "metadata": {},
     "output_type": "execute_result"
    }
   ],
   "source": [
    "s.get_groups()"
   ]
  },
  {
   "cell_type": "markdown",
   "id": "2ccd2e9d-7224-4448-814d-5f6ffd674217",
   "metadata": {},
   "source": [
    "A user can be added to the safe using the _update_group_ method"
   ]
  },
  {
   "cell_type": "code",
   "execution_count": 6,
   "id": "ae459953-cf28-458c-96b3-57b22a59e0a5",
   "metadata": {},
   "outputs": [
    {
     "name": "stderr",
     "output_type": "stream",
     "text": [
      "time=\"2024-06-21T22:06:10+02:00\" level=info msg=\"safe.SyncGroupChain[group.go:187] - group chain is up to date, using the local copy\"\n",
      "time=\"2024-06-21T22:06:10+02:00\" level=info msg=\"safe.applyChange[group.go:338] - group change applied: Alice granted to usr by Admin\"\n",
      "time=\"2024-06-21T22:06:10+02:00\" level=info msg=\"safe.(*Safe).UpdateGroup[group.go:133] - group change created and added to the chain: Alice granted to usr by Admin\"\n",
      "time=\"2024-06-21T22:06:10+02:00\" level=info msg=\"safe.writeGroupChanges[group.go:447] - group changes written to the store on batches [0]\"\n",
      "time=\"2024-06-21T22:06:10+02:00\" level=info msg=\"safe.writeKeystore[key.go:237] - keystore usr.ks written successfully by Admin: users Admin, Alice\"\n"
     ]
    },
    {
     "data": {
      "text/plain": [
       "{'adm': {'Admin.A+SjkkwsclT4wsxOZ0mp5qP98Wc0btpoULZ50Uk6vOFj1TwUm4ta7d9DE1wyH5VE18IwHXKiaFdp1NxDQVkmdGU!': True},\n",
       " 'usr': {'Admin.A+SjkkwsclT4wsxOZ0mp5qP98Wc0btpoULZ50Uk6vOFj1TwUm4ta7d9DE1wyH5VE18IwHXKiaFdp1NxDQVkmdGU!': True,\n",
       "  'Alice.A8pPwB_vHdPSjwbBEuX_2GhJknjDKex0bxsacsdnRLkiLGzGYCHxVIOHvM5p2pmOzv50CIXUXUNyUzm9+GYHnvA!': True}}"
      ]
     },
     "execution_count": 6,
     "metadata": {},
     "output_type": "execute_result"
    }
   ],
   "source": [
    "alice = Identity('Alice')\n",
    "s.update_group('usr', Safe.grant, [alice.id])"
   ]
  },
  {
   "cell_type": "markdown",
   "id": "a761fd35-ad2a-4474-b759-1c32de8f8386",
   "metadata": {},
   "source": [
    "### Filesystem\n",
    "A filesystem provides a file-oriented interface on top of a safe. Use the _put_data_ method to write a new file and the _list_ method to display the updated directory contents."
   ]
  },
  {
   "cell_type": "code",
   "execution_count": 7,
   "id": "5c4b38a4",
   "metadata": {},
   "outputs": [
    {
     "name": "stderr",
     "output_type": "stream",
     "text": [
      "time=\"2024-06-21T22:06:10+02:00\" level=info msg=\"fs.(*FileSystem).putSync[put.go:121] - putting file 2b471d18f872000 from data\"\n",
      "time=\"2024-06-21T22:06:10+02:00\" level=info msg=\"fs.writeBody[put.go:194] - writing body to fs/data/2b471d18f872000\"\n",
      "time=\"2024-06-21T22:06:10+02:00\" level=info msg=\"fs.writeHeader[file.go:83] - encrypting header sub/test.txt\"\n",
      "time=\"2024-06-21T22:06:10+02:00\" level=info msg=\"fs.writeHeader[file.go:89] - writing header sub/test.txt to fs/headers/82719d195d0fc2f5/2b471d18f872000\"\n",
      "time=\"2024-06-21T22:06:10+02:00\" level=info msg=\"fs.syncHeaders[file.go:140] - found 1 headers in sub\"\n",
      "time=\"2024-06-21T22:06:10+02:00\" level=info msg=\"fs.readHeader[file.go:131] - read header sub/test.txt with id 194905828753874944\"\n",
      "time=\"2024-06-21T22:06:10+02:00\" level=info msg=\"fs.writeFileToDB[file.go:203] - stored dir sub\"\n",
      "time=\"2024-06-21T22:06:10+02:00\" level=info msg=\"fs.writeFileToDB[file.go:207] - stored file sub/test.txt with id 194905828753874944, args map[attributes:map[] copyTime:2024-06-21 22:06:10.749757202 +0200 CEST m=+5.783298688 creator:Admin.A+SjkkwsclT4wsxOZ0mp5qP98Wc0btpoULZ50Uk6vOFj1TwUm4ta7d9DE1wyH5VE18IwHXKiaFdp1NxDQVkmdGU! dir:sub encryptionKey:[188 234 124 190 182 156 122 211 21 159 132 174 137 20 161 236 152 72 191 30 221 188 81 235 241 153 29 111 8 217 164 66 187 77 177 101 170 220 52 225 2 230 216 224 246 46 201 217] groupName:usr id:194905828753874944 localCopy: modTime:2024-06-21 22:06:10.749434166 +0200 CEST name:test.txt safeID:file:///tmp/mio/Admin.A+SjkkwsclT4wsxOZ0mp5qP98Wc0btpoULZ50Uk6vOFj1TwUm4ta7d9DE1wyH5VE18IwHXKiaFdp1NxDQVkmdGU!/sample size:4 tags:  ]\"\n",
      "time=\"2024-06-21T22:06:10+02:00\" level=info msg=\"fs.(*FileSystem).List[list.go:23] - syncing headers of \"\n",
      "time=\"2024-06-21T22:06:10+02:00\" level=info msg=\"fs.searchFiles[file.go:243] - found file /sub\"\n",
      "time=\"2024-06-21T22:06:10+02:00\" level=info msg=\"fs.searchFiles[file.go:245] - found 1 files in  with search options map[#orderBy: after:-6795364578871345152 before:-6795364578871345152 creator: dir: groupName: limit:100 name: offset:0 prefix: safeID:file:///tmp/mio/Admin.A+SjkkwsclT4wsxOZ0mp5qP98Wc0btpoULZ50Uk6vOFj1TwUm4ta7d9DE1wyH5VE18IwHXKiaFdp1NxDQVkmdGU!/sample suffix: tag:]\"\n"
     ]
    },
    {
     "data": {
      "text/plain": [
       "[{'ID': 0,\n",
       "  'Dir': '',\n",
       "  'Name': 'sub',\n",
       "  'IsDir': True,\n",
       "  'GroupName': '',\n",
       "  'Creator': '',\n",
       "  'Size': 0,\n",
       "  'ModTime': '1970-01-01T01:00:00+01:00',\n",
       "  'Tags': [''],\n",
       "  'Attributes': None,\n",
       "  'LocalCopy': '',\n",
       "  'CopyTime': '1970-01-01T01:00:00+01:00',\n",
       "  'EncryptionKey': ''}]"
      ]
     },
     "execution_count": 7,
     "metadata": {},
     "output_type": "execute_result"
    }
   ],
   "source": [
    "fs = s.fs()\n",
    "fs.put_data('sub/test.txt', b'test')\n",
    "fs.list()"
   ]
  },
  {
   "cell_type": "code",
   "execution_count": 8,
   "id": "98588960-c6fa-46ee-8a58-6cea9bf4fb3c",
   "metadata": {},
   "outputs": [
    {
     "name": "stderr",
     "output_type": "stream",
     "text": [
      "time=\"2024-06-21T22:06:10+02:00\" level=info msg=\"fs.searchFiles[file.go:243] - found file sub/test.txt\"\n",
      "time=\"2024-06-21T22:06:10+02:00\" level=info msg=\"fs.searchFiles[file.go:245] - found 1 files in sub with search options map[#orderBy: after:-6795364578871345152 before:-6795364578871345152 creator: dir:sub groupName: limit:100 name: offset:0 prefix: safeID:file:///tmp/mio/Admin.A+SjkkwsclT4wsxOZ0mp5qP98Wc0btpoULZ50Uk6vOFj1TwUm4ta7d9DE1wyH5VE18IwHXKiaFdp1NxDQVkmdGU!/sample suffix: tag:]\"\n"
     ]
    },
    {
     "data": {
      "text/plain": [
       "[{'ID': 194905828753874944,\n",
       "  'Dir': 'sub',\n",
       "  'Name': 'test.txt',\n",
       "  'IsDir': False,\n",
       "  'GroupName': 'usr',\n",
       "  'Creator': 'Admin.A+SjkkwsclT4wsxOZ0mp5qP98Wc0btpoULZ50Uk6vOFj1TwUm4ta7d9DE1wyH5VE18IwHXKiaFdp1NxDQVkmdGU!',\n",
       "  'Size': 4,\n",
       "  'ModTime': '2024-06-21T22:06:10.749434166+02:00',\n",
       "  'Tags': [''],\n",
       "  'Attributes': None,\n",
       "  'LocalCopy': '',\n",
       "  'CopyTime': '2024-06-21T22:06:10.749757202+02:00',\n",
       "  'EncryptionKey': 'vOp8vracetMVn4SuiRSh7JhIvx7dvFHr8ZkdbwjZpEK7TbFlqtw04QLm2OD2LsnZ'}]"
      ]
     },
     "execution_count": 8,
     "metadata": {},
     "output_type": "execute_result"
    }
   ],
   "source": [
    "fs.list('sub')"
   ]
  },
  {
   "cell_type": "code",
   "execution_count": 9,
   "id": "8ba8b88c",
   "metadata": {},
   "outputs": [
    {
     "data": {
      "text/plain": [
       "b'test'"
      ]
     },
     "execution_count": 9,
     "metadata": {},
     "output_type": "execute_result"
    }
   ],
   "source": [
    "fs.get_data('sub/test.txt')"
   ]
  },
  {
   "cell_type": "code",
   "execution_count": 10,
   "id": "79bf19a2-55ba-4c84-95cf-433df899853d",
   "metadata": {},
   "outputs": [
    {
     "name": "stderr",
     "output_type": "stream",
     "text": [
      "time=\"2024-06-21T22:06:10+02:00\" level=info msg=\"fs.(*FileSystem).List[list.go:23] - syncing headers of \"\n",
      "time=\"2024-06-21T22:06:10+02:00\" level=info msg=\"fs.searchFiles[file.go:245] - found 0 files in  with search options map[#orderBy: after:-6795364578871345152 before:-6795364578871345152 creator: dir: groupName: limit:100 name: offset:0 prefix: safeID:file:///tmp/mio/Admin.A+SjkkwsclT4wsxOZ0mp5qP98Wc0btpoULZ50Uk6vOFj1TwUm4ta7d9DE1wyH5VE18IwHXKiaFdp1NxDQVkmdGU!/sample suffix: tag:]\"\n"
     ]
    },
    {
     "data": {
      "text/plain": [
       "[]"
      ]
     },
     "execution_count": 10,
     "metadata": {},
     "output_type": "execute_result"
    }
   ],
   "source": [
    "fs.delete('sub/test.txt')\n",
    "fs.list()"
   ]
  },
  {
   "cell_type": "markdown",
   "id": "a26cf804-af5f-40c0-9a76-4710cd93a069",
   "metadata": {},
   "source": [
    "### Distributed Database\n",
    "A SQL sqlite API where changes are propagated to other peer through the safe.\n",
    "\n",
    "A new instance requires a group that will be used during the transfer of data through the safe. Only users that belong to the group will receive updates. \n",
    "During the creation of the instance same initialization  _ddl_  can be provided in input; each initialization SQL mut be preceed by a comment _-- INIT_\n"
   ]
  },
  {
   "cell_type": "code",
   "execution_count": 18,
   "id": "6526eadd-351f-45de-8917-444c3328ba35",
   "metadata": {
    "scrolled": true
   },
   "outputs": [
    {
     "name": "stderr",
     "output_type": "stream",
     "text": [
      "time=\"2024-06-21T22:17:10+02:00\" level=info msg=\"sqlx.(*DB).Define[define.go:38] - SQL Init stmt (line 2) 'CREATE TABLE IF NOT EXISTS animal (name TEXT)\\n' executed\\n\"\n",
      "time=\"2024-06-21T22:17:10+02:00\" level=info msg=\"db.Open[db.go:32] - Opening database on safe file:///tmp/mio/Admin.A+SjkkwsclT4wsxOZ0mp5qP98Wc0btpoULZ50Uk6vOFj1TwUm4ta7d9DE1wyH5VE18IwHXKiaFdp1NxDQVkmdGU!/sample with group usr\"\n"
     ]
    }
   ],
   "source": [
    "ddl = \"\"\"\n",
    "-- INIT\n",
    "CREATE TABLE IF NOT EXISTS animal (name TEXT)\n",
    "\"\"\"\n",
    "\n",
    "ddls = {1.0: ddl}\n",
    "d = s.database('usr', ddls)"
   ]
  },
  {
   "cell_type": "markdown",
   "id": "2020ea6b-89bb-4e42-bba6-04dbb4180f9c",
   "metadata": {},
   "source": [
    "The below code insert a row in the table and then retrieve all the values"
   ]
  },
  {
   "cell_type": "code",
   "execution_count": 19,
   "id": "f5376b30-81bc-4f5b-8d14-9cc3f5eec775",
   "metadata": {},
   "outputs": [
    {
     "name": "stdout",
     "output_type": "stream",
     "text": [
      "['cat']\n",
      "['cat']\n",
      "['cat']\n",
      "['cat']\n",
      "['cat']\n",
      "['cat']\n",
      "['cat']\n",
      "['cat']\n",
      "['cat']\n",
      "['cat']\n",
      "['cat']\n",
      "['cat']\n",
      "['cat']\n",
      "['cat']\n",
      "['cat']\n",
      "['cat']\n",
      "['cat']\n",
      "['cat']\n",
      "['cat']\n",
      "['cat']\n"
     ]
    }
   ],
   "source": [
    "d.exec('INSERT INTO animal VALUES (:name)', name = 'cat')\n",
    "rows = d.query(\"SELECT * FROM animal \")\n",
    "for row in rows:\n",
    "    print(row)"
   ]
  },
  {
   "cell_type": "markdown",
   "id": "c81ba0fe-2578-4695-af2a-0cf64c3c9cd2",
   "metadata": {},
   "source": [
    "The methods _exec_ and _select_ operate locally. Only when the method _sync_ is called, changes propagates to other peers and at the same outgoing changes are applied."
   ]
  },
  {
   "cell_type": "code",
   "execution_count": 15,
   "id": "023ccfa7-7faf-4dc0-ad3d-117a79a16b95",
   "metadata": {},
   "outputs": [],
   "source": [
    "d.sync()"
   ]
  },
  {
   "cell_type": "markdown",
   "id": "d27a38db-73ab-4a9e-b96a-16cc9e9982e3",
   "metadata": {},
   "source": [
    "The API supports a mechanism similar to placeholders defined in the initialization SQL. For instance"
   ]
  },
  {
   "cell_type": "code",
   "execution_count": 24,
   "id": "435bc151-93c5-4e4b-924b-ce0061942cde",
   "metadata": {},
   "outputs": [
    {
     "name": "stderr",
     "output_type": "stream",
     "text": [
      "time=\"2024-06-21T22:24:33+02:00\" level=info msg=\"sqlx.(*DB).Define[define.go:38] - SQL Init stmt (line 2) 'CREATE TABLE IF NOT EXISTS animal (name TEXT)\\n' executed\\n\"\n",
      "time=\"2024-06-21T22:24:33+02:00\" level=info msg=\"sqlx.(*DB).prepareStatement[define.go:81] - SQL statement compiled: 'INSERT_ANIMAL' (5) 'INSERT INTO animal VALUES (:name)\\n'\\n\"\n",
      "time=\"2024-06-21T22:24:33+02:00\" level=info msg=\"db.Open[db.go:32] - Opening database on safe file:///tmp/mio/Admin.A+SjkkwsclT4wsxOZ0mp5qP98Wc0btpoULZ50Uk6vOFj1TwUm4ta7d9DE1wyH5VE18IwHXKiaFdp1NxDQVkmdGU!/sample with group usr\"\n",
      "time=\"2024-06-21T22:24:33+02:00\" level=error msg=\"invalid SQL statement 'SELECT_ANIMAL': near \\\"SELECT_ANIMAL\\\": syntax error\\n\\tsqlx.(*DB).getStatement: /home/ea/Github/mio/lib/sqlx/define.go:110\\n\\tsqlx.(*DB).Query: /home/ea/Github/mio/lib/sqlx/query.go:116\\n\\tdb.(*Database).Query: /home/ea/Github/mio/lib/db/query.go:6\\n\\tmain.mio_query: /home/ea/Github/mio/lib/export.go:455\\n\\t_cgoexp_3e178955cd50_mio_query: _cgo_gotypes.go:386\\n\\truntime.cgocallbackg1: /usr/local/go/src/runtime/cgocall.go:403\\n\\truntime.cgocallbackg: /usr/local/go/src/runtime/cgocall.go:322\\n\\truntime.cgocallback: /usr/local/go/src/runtime/asm_amd64.s:1079\\n\\truntime.goexit: /usr/local/go/src/runtime/asm_amd64.s:1695\"\n"
     ]
    },
    {
     "ename": "Exception",
     "evalue": "invalid SQL statement 'SELECT_ANIMAL': near \"SELECT_ANIMAL\": syntax error",
     "output_type": "error",
     "traceback": [
      "\u001b[0;31m---------------------------------------------------------------------------\u001b[0m",
      "\u001b[0;31mException\u001b[0m                                 Traceback (most recent call last)",
      "Cell \u001b[0;32mIn[24], line 16\u001b[0m\n\u001b[1;32m     13\u001b[0m d \u001b[38;5;241m=\u001b[39m s\u001b[38;5;241m.\u001b[39mdatabase(\u001b[38;5;124m'\u001b[39m\u001b[38;5;124musr\u001b[39m\u001b[38;5;124m'\u001b[39m, ddls)\n\u001b[1;32m     15\u001b[0m d\u001b[38;5;241m.\u001b[39mexec(\u001b[38;5;124m'\u001b[39m\u001b[38;5;124mINSERT_ANIMAL\u001b[39m\u001b[38;5;124m'\u001b[39m, name \u001b[38;5;241m=\u001b[39m \u001b[38;5;124m'\u001b[39m\u001b[38;5;124mcat\u001b[39m\u001b[38;5;124m'\u001b[39m)\n\u001b[0;32m---> 16\u001b[0m rows \u001b[38;5;241m=\u001b[39m \u001b[43md\u001b[49m\u001b[38;5;241;43m.\u001b[39;49m\u001b[43mquery\u001b[49m\u001b[43m(\u001b[49m\u001b[38;5;124;43m'\u001b[39;49m\u001b[38;5;124;43mSELECT_ANIMAL\u001b[39;49m\u001b[38;5;124;43m'\u001b[39;49m\u001b[43m)\u001b[49m\n\u001b[1;32m     17\u001b[0m \u001b[38;5;28;01mfor\u001b[39;00m row \u001b[38;5;129;01min\u001b[39;00m rows:\n\u001b[1;32m     18\u001b[0m     \u001b[38;5;28mprint\u001b[39m(row)\n",
      "File \u001b[0;32m~/Github/mio/py/mio.py:157\u001b[0m, in \u001b[0;36mDatabase.query\u001b[0;34m(self, key, **args)\u001b[0m\n\u001b[1;32m    155\u001b[0m \u001b[38;5;28;01mdef\u001b[39;00m \u001b[38;5;21mquery\u001b[39m(\u001b[38;5;28mself\u001b[39m, key: \u001b[38;5;28mstr\u001b[39m, \u001b[38;5;241m*\u001b[39m\u001b[38;5;241m*\u001b[39margs: \u001b[38;5;28mdict\u001b[39m):\n\u001b[1;32m    156\u001b[0m     r \u001b[38;5;241m=\u001b[39m lib\u001b[38;5;241m.\u001b[39mmio_query(\u001b[38;5;28mself\u001b[39m\u001b[38;5;241m.\u001b[39mhnd, e8(key), j8(args))\n\u001b[0;32m--> 157\u001b[0m     \u001b[43mr2d\u001b[49m\u001b[43m(\u001b[49m\u001b[43mr\u001b[49m\u001b[43m)\u001b[49m\n\u001b[1;32m    158\u001b[0m     rows \u001b[38;5;241m=\u001b[39m Rows()\n\u001b[1;32m    159\u001b[0m     rows\u001b[38;5;241m.\u001b[39mhnd \u001b[38;5;241m=\u001b[39m r\u001b[38;5;241m.\u001b[39mhnd\n",
      "File \u001b[0;32m~/Github/mio/py/miod.py:53\u001b[0m, in \u001b[0;36mr2d\u001b[0;34m(r)\u001b[0m\n\u001b[1;32m     51\u001b[0m \u001b[38;5;28;01mdef\u001b[39;00m \u001b[38;5;21mr2d\u001b[39m(r):\n\u001b[1;32m     52\u001b[0m     \u001b[38;5;28;01mif\u001b[39;00m r\u001b[38;5;241m.\u001b[39merr:\n\u001b[0;32m---> 53\u001b[0m         \u001b[38;5;28;01mraise\u001b[39;00m \u001b[38;5;167;01mException\u001b[39;00m(r\u001b[38;5;241m.\u001b[39merr\u001b[38;5;241m.\u001b[39mdecode(\u001b[38;5;124m\"\u001b[39m\u001b[38;5;124mutf-8\u001b[39m\u001b[38;5;124m\"\u001b[39m))\n\u001b[1;32m     54\u001b[0m     \u001b[38;5;28;01mif\u001b[39;00m r\u001b[38;5;241m.\u001b[39mval \u001b[38;5;129;01mis\u001b[39;00m \u001b[38;5;28;01mNone\u001b[39;00m:\n\u001b[1;32m     55\u001b[0m         \u001b[38;5;28;01mreturn\u001b[39;00m \u001b[38;5;28;01mNone\u001b[39;00m\n",
      "\u001b[0;31mException\u001b[0m: invalid SQL statement 'SELECT_ANIMAL': near \"SELECT_ANIMAL\": syntax error"
     ]
    }
   ],
   "source": [
    "ddl = \"\"\"\n",
    "-- INIT\n",
    "CREATE TABLE IF NOT EXISTS animal (name TEXT)\n",
    "\n",
    "-- INSERT_ANIMAL\n",
    "INSERT INTO animal VALUES (:name)\n",
    "\n",
    "-- SELECT_ANIMALS\n",
    "SELECT * FROM animal\n",
    "\n",
    "\"\"\"\n",
    "\n",
    "ddls = {1.0: ddl}\n",
    "d = s.database('usr', ddls)\n",
    "\n",
    "d.exec('INSERT_ANIMAL', name = 'cat')\n",
    "rows = d.query('SELECT_ANIMAL')\n",
    "for row in rows:\n",
    "    print(row)\n"
   ]
  },
  {
   "cell_type": "code",
   "execution_count": null,
   "id": "75348730-34dd-456b-bdfc-ccc26ab344e4",
   "metadata": {},
   "outputs": [],
   "source": []
  },
  {
   "cell_type": "code",
   "execution_count": null,
   "id": "82333763-02c3-46da-ab30-a58146e13b12",
   "metadata": {},
   "outputs": [],
   "source": []
  }
 ],
 "metadata": {
  "kernelspec": {
   "display_name": "Python 3 (ipykernel)",
   "language": "python",
   "name": "python3"
  },
  "language_info": {
   "codemirror_mode": {
    "name": "ipython",
    "version": 3
   },
   "file_extension": ".py",
   "mimetype": "text/x-python",
   "name": "python",
   "nbconvert_exporter": "python",
   "pygments_lexer": "ipython3",
   "version": "3.12.2"
  }
 },
 "nbformat": 4,
 "nbformat_minor": 5
}
